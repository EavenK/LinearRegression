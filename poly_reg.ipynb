{
 "cells": [
  {
   "cell_type": "code",
   "execution_count": 30,
   "metadata": {},
   "outputs": [
    {
     "data": {
      "text/plain": [
       "LinearRegression(copy_X=True, fit_intercept=True, n_jobs=1, normalize=False)"
      ]
     },
     "execution_count": 30,
     "metadata": {},
     "output_type": "execute_result"
    }
   ],
   "source": [
    "# TODO: Add import statements\n",
    "import numpy as np\n",
    "import pandas as pd\n",
    "from sklearn.preprocessing import PolynomialFeatures\n",
    "from sklearn.linear_model import LinearRegression\n",
    "\n",
    "# Assign the data to predictor and outcome variables\n",
    "# TODO: Load the data\n",
    "train_data = None\n",
    "X = None\n",
    "y = None\n",
    "#train_data = pd.read_csv(\"data.csv\")\n",
    "train_data = np.loadtxt('data.csv', delimiter=',', skiprows=1)\n",
    "X = train_data[:,:-1]\n",
    "y = train_data[:,-1]\n",
    "print(type(X))\n",
    "print (X.shape)\n",
    "print (y.shape)\n",
    "\n",
    "\n",
    "# Create polynomial features\n",
    "# TODO: Create a PolynomialFeatures object, then fit and transform the\n",
    "# predictor feature\n",
    "poly_feat = None\n",
    "X_poly = None\n",
    "poly_feat = PolynomialFeatures(4) # default is 2. (a,b) --> 1,a,b,a^2,ab,b^2\n",
    "#print(train_data[['Var_X']])\n",
    "#print(poly_feat.fit_transform(train_data[['Var_X']]))\n",
    "#print(poly_feat.fit_transform(X))\n",
    "X_poly = poly_feat.fit_transform(X)\n",
    "\n",
    "\n",
    "# Make and fit the polynomial regression model\n",
    "# TODO: Create a LinearRegression object and fit it to the polynomial predictor\n",
    "# features\n",
    "poly_model = None\n",
    "poly_model = LinearRegression()\n",
    "poly_model.fit(X_poly, y)\n",
    "\n",
    "\n",
    "# Once you've completed all of the steps, select Test Run to see your model\n",
    "# predictions against the data, or select Submit Answer to check if the degree\n",
    "# of the polynomial features is the same as ours!"
   ]
  },
  {
   "cell_type": "markdown",
   "metadata": {},
   "source": [
    "## Sample Answer"
   ]
  },
  {
   "cell_type": "code",
   "execution_count": 41,
   "metadata": {},
   "outputs": [
    {
     "name": "stdout",
     "output_type": "stream",
     "text": [
      "(20,)\n",
      "<class 'numpy.ndarray'>\n",
      "[-0.33532  0.0216  -1.19438 -0.65046 -0.28001  1.93258  1.2262   0.74727\n",
      "  3.32853  2.87457 -1.48662  0.37629  1.43918  0.24183 -2.7914   1.08176\n",
      "  2.81555  0.54924  2.36449 -1.01925]\n",
      "(20, 1)\n",
      "[[-0.33532]\n",
      " [ 0.0216 ]\n",
      " [-1.19438]\n",
      " [-0.65046]\n",
      " [-0.28001]\n",
      " [ 1.93258]\n",
      " [ 1.2262 ]\n",
      " [ 0.74727]\n",
      " [ 3.32853]\n",
      " [ 2.87457]\n",
      " [-1.48662]\n",
      " [ 0.37629]\n",
      " [ 1.43918]\n",
      " [ 0.24183]\n",
      " [-2.7914 ]\n",
      " [ 1.08176]\n",
      " [ 2.81555]\n",
      " [ 0.54924]\n",
      " [ 2.36449]\n",
      " [-1.01925]]\n"
     ]
    }
   ],
   "source": [
    "# TODO: Add import statements\n",
    "import numpy as np\n",
    "import pandas as pd\n",
    "from sklearn.linear_model import LinearRegression\n",
    "from sklearn.preprocessing import PolynomialFeatures\n",
    "\n",
    "# Assign the data to predictor and outcome variables\n",
    "# TODO: Load the data\n",
    "train_data = pd.read_csv('data.csv')\n",
    "Z = train_data['Var_X'].values\n",
    "print(Z.shape)\n",
    "print(type(Z))\n",
    "print(Z)\n",
    "X = train_data['Var_X'].values.reshape(-1, 1) \n",
    "# The -1 simply means that it is an unknown dimension and we want numpy to figure it out.\n",
    "# but with condition the column is 1 as we set it. so, it become 20,1\n",
    "print(X.shape)\n",
    "print(X)\n",
    "y = train_data['Var_Y'].values\n",
    "\n",
    "# Create polynomial features\n",
    "# TODO: Create a PolynomialFeatures object, then fit and transform the\n",
    "# predictor feature\n",
    "poly_feat = PolynomialFeatures(degree = 4)\n",
    "X_poly = poly_feat.fit_transform(X)\n",
    "\n",
    "# Make and fit the polynomial regression model\n",
    "# TODO: Create a LinearRegression object and fit it to the polynomial predictor\n",
    "# features\n",
    "poly_model = LinearRegression(fit_intercept = False).fit(X_poly, y)"
   ]
  },
  {
   "cell_type": "code",
   "execution_count": null,
   "metadata": {},
   "outputs": [],
   "source": []
  }
 ],
 "metadata": {
  "kernelspec": {
   "display_name": "Python 3",
   "language": "python",
   "name": "python3"
  },
  "language_info": {
   "codemirror_mode": {
    "name": "ipython",
    "version": 3
   },
   "file_extension": ".py",
   "mimetype": "text/x-python",
   "name": "python",
   "nbconvert_exporter": "python",
   "pygments_lexer": "ipython3",
   "version": "3.6.4"
  }
 },
 "nbformat": 4,
 "nbformat_minor": 2
}
