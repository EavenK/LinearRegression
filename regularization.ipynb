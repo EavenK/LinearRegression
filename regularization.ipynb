{
 "cells": [
  {
   "cell_type": "code",
   "execution_count": 5,
   "metadata": {},
   "outputs": [
    {
     "name": "stdout",
     "output_type": "stream",
     "text": [
      "[ 0.          2.35793224  2.00441646 -0.05511954 -3.92808318  0.        ]\n",
      "[-6.19918532e-03  2.96325160e+00  1.98199191e+00 -7.86249920e-02\n",
      " -3.95818772e+00  9.30786141e+00]\n"
     ]
    }
   ],
   "source": [
    "# TODO: Add import statements\n",
    "from sklearn import linear_model\n",
    "import pandas as pd\n",
    "import numpy as np\n",
    "from sklearn.linear_model import LinearRegression\n",
    "#Use sklearn's Lasso class to fit a linear regression model to the data,\n",
    "#using L1 regularization to control for model complexity.\n",
    "\n",
    "# Assign the data to predictor and outcome variables\n",
    "# TODO: Load the data\n",
    "train_data = None\n",
    "X = None\n",
    "y = None\n",
    "train_data = np.loadtxt('data.csv', delimiter = ',')\n",
    "#df = pd.DataFrame(boston_data.data, columns=boston_data.feature_names)\n",
    "X = train_data[:,:-1]\n",
    "y = train_data[:,-1]\n",
    "#print (X)\n",
    "\n",
    "# TODO: Create the linear regression model with lasso regularization.\n",
    "lasso_reg = None\n",
    "#lasso_reg = linear_model.Lasso(alpha=0.1)\n",
    "lasso_reg = linear_model.Lasso()\n",
    "# TODO: Fit the model.\n",
    "lasso_reg.fit(X,y)\n",
    "\n",
    "#lasso_reg_model = None\n",
    "#lasso_reg_model = linear_model.Lasso()\n",
    "# TODO: Fit the model.\n",
    "#lasso_reg_model.fit(X,y)\n",
    "\n",
    "#y^ = W1X1 + W2X2 + W3X3 + W4X4 + W5X5 + W6X6 \n",
    "#Lasso Reg -  add the W1 to W6 to the Error\n",
    "# while doing fit (train model), many model will be generated (with different X1, X2^2, X3^3 etc or X1^2, X2^3 etc) \n",
    "# and many MSE will be generated for diff model, however at the end is to pick the best model with less error.  \n",
    "# but by adding W1-W6 to the error, it will pick internally a model that is less complex as too complex model will be \n",
    "# punished with W1-W6 adding to the total error. \n",
    "# and eventually the best model being pick strike a balance between MSE + complexity of model (W1-W6)\n",
    "# **Please be noted that the more complex the model (over fit), the lesser the MSE. \n",
    "# And the coef is the end product found for each W1 to W6 for the best model being pick => which is less error combining\n",
    "# both MSE and Lasso Reg (adding W1 to W2 to Error)\n",
    "\n",
    "# there is no fit_transform used for Lasso as Lasso is not work towards chnaging the relationship between X (e.g. \n",
    "# variables which are not linear - poly) or changing the X into normalized form,  \n",
    "# Reg Lasso is work directly on the model itself - not overfit when minimize the error (and this is not thru X)\n",
    "\n",
    "\n",
    "# TODO: Retrieve and print out the coefficients from the regression model.\n",
    "reg_coef = None\n",
    "reg_coef = lasso_reg.coef_\n",
    "print(reg_coef)\n",
    "\n",
    "\n",
    "model = None\n",
    "model = LinearRegression()\n",
    "model.fit (X,y)\n",
    "coef = None\n",
    "coef = model.coef_\n",
    "print(coef)\n",
    "\n"
   ]
  },
  {
   "cell_type": "markdown",
   "metadata": {},
   "source": [
    "   ## Sample"
   ]
  },
  {
   "cell_type": "code",
   "execution_count": 4,
   "metadata": {},
   "outputs": [
    {
     "name": "stdout",
     "output_type": "stream",
     "text": [
      "[ 0.          2.35793224  2.00441646 -0.05511954 -3.92808318  0.        ]\n"
     ]
    }
   ],
   "source": [
    "# TODO: Add import statements\n",
    "import numpy as np\n",
    "import pandas as pd\n",
    "from sklearn.linear_model import Lasso\n",
    "\n",
    "# Assign the data to predictor and outcome variables\n",
    "# TODO: Load the data\n",
    "train_data = pd.read_csv('data.csv', header = None)\n",
    "X = train_data.iloc[:,:-1]\n",
    "y = train_data.iloc[:,-1]\n",
    "\n",
    "# TODO: Create the linear regression model with lasso regularization.\n",
    "lasso_reg = Lasso()\n",
    "\n",
    "# TODO: Fit the model.\n",
    "lasso_reg.fit(X, y)\n",
    "\n",
    "# TODO: Retrieve and print out the coefficients from the regression model.\n",
    "reg_coef = lasso_reg.coef_\n",
    "print(reg_coef)"
   ]
  },
  {
   "cell_type": "code",
   "execution_count": null,
   "metadata": {},
   "outputs": [],
   "source": []
  }
 ],
 "metadata": {
  "kernelspec": {
   "display_name": "Python 3",
   "language": "python",
   "name": "python3"
  },
  "language_info": {
   "codemirror_mode": {
    "name": "ipython",
    "version": 3
   },
   "file_extension": ".py",
   "mimetype": "text/x-python",
   "name": "python",
   "nbconvert_exporter": "python",
   "pygments_lexer": "ipython3",
   "version": "3.6.4"
  }
 },
 "nbformat": 4,
 "nbformat_minor": 2
}
